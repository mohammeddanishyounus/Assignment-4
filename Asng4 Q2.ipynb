{
 "cells": [
  {
   "cell_type": "code",
   "execution_count": 26,
   "metadata": {},
   "outputs": [
    {
     "name": "stdout",
     "output_type": "stream",
     "text": [
      "\n",
      "Lahore is in Pakistan.\n",
      "  It has a population of about 7800000.\n",
      "  The Minar-E-Pakistan is a fact.\n",
      "\n",
      "Karachi is in Pakistan.\n",
      "  It has a population of about 12300000.\n",
      "  The Tomb Of Quaid-E-Azam is a fact.\n",
      "\n",
      "Islambad is in Pakistan.\n",
      "  It has a population of about 930000.\n",
      "  The Captial Of Pakistan is a fact.\n"
     ]
    }
   ],
   "source": [
    "cities = {\n",
    "    'Lahore': {\n",
    "        'country': 'Pakistan',\n",
    "        'population': 7800000,\n",
    "        'fact': 'Minar-e-Pakistan',\n",
    "        },\n",
    "    'Karachi': {\n",
    "        'country': 'Pakistan',\n",
    "        'population': 12300000,\n",
    "        'fact': 'Tomb of Quaid-e-Azam',\n",
    "        },\n",
    "    'Islambad': {\n",
    "        'country': 'Pakistan',\n",
    "        'population': 930000,\n",
    "        'fact': 'Captial of Pakistan',\n",
    "        }\n",
    "    }\n",
    "for city, city_info in cities.items():\n",
    "    country = city_info['country'].title()\n",
    "    population = city_info['population']\n",
    "    mountains = city_info['fact'].title()\n",
    "\n",
    "    print(\"\\n\" + city.title() + \" is in \" + country + \".\")\n",
    "    print(\"  It has a population of about \" + str(population) + \".\")\n",
    "    print(\"  The \" + mountains + \" is a fact.\")"
   ]
  },
  {
   "cell_type": "code",
   "execution_count": null,
   "metadata": {},
   "outputs": [],
   "source": []
  },
  {
   "cell_type": "code",
   "execution_count": null,
   "metadata": {},
   "outputs": [],
   "source": []
  }
 ],
 "metadata": {
  "kernelspec": {
   "display_name": "Python 3",
   "language": "python",
   "name": "python3"
  },
  "language_info": {
   "codemirror_mode": {
    "name": "ipython",
    "version": 3
   },
   "file_extension": ".py",
   "mimetype": "text/x-python",
   "name": "python",
   "nbconvert_exporter": "python",
   "pygments_lexer": "ipython3",
   "version": "3.7.4"
  }
 },
 "nbformat": 4,
 "nbformat_minor": 2
}
