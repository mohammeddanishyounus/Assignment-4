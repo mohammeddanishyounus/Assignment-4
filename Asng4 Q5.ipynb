{
 "cells": [
  {
   "cell_type": "code",
   "execution_count": null,
   "metadata": {},
   "outputs": [
    {
     "name": "stdout",
     "output_type": "stream",
     "text": [
      "Guess a number that's between 1 and 10: 5\n",
      "Guess again! 8\n",
      "Guess again! 9\n"
     ]
    }
   ],
   "source": [
    "import random\n",
    "t,g=random.randint(1,30),0\n",
    "g=int(input(\"Guess a number that's between 1 and 30: \"))\n",
    "while t!=g:g=int(input(\"Guess again! \"))\n",
    "print(\"That's right!\")"
   ]
  },
  {
   "cell_type": "code",
   "execution_count": null,
   "metadata": {},
   "outputs": [],
   "source": []
  }
 ],
 "metadata": {
  "kernelspec": {
   "display_name": "Python 3",
   "language": "python",
   "name": "python3"
  },
  "language_info": {
   "codemirror_mode": {
    "name": "ipython",
    "version": 3
   },
   "file_extension": ".py",
   "mimetype": "text/x-python",
   "name": "python",
   "nbconvert_exporter": "python",
   "pygments_lexer": "ipython3",
   "version": "3.7.4"
  }
 },
 "nbformat": 4,
 "nbformat_minor": 2
}
