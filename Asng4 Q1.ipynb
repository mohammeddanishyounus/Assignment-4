{
 "cells": [
  {
   "cell_type": "code",
   "execution_count": 23,
   "metadata": {},
   "outputs": [
    {
     "name": "stdout",
     "output_type": "stream",
     "text": [
      "Before Amendment\n",
      "{'first_name': 'danish', 'last_name': 'younus', 'age': 28, 'city': 'karachi', 'qualification': 'MCS'}\n",
      "After Add Qualification\n",
      "{'first_name': 'danish', 'last_name': 'younus', 'age': 28, 'city': 'karachi', 'qualification': 'MCS'}\n",
      "After Del Qualification\n",
      "{'first_name': 'danish', 'last_name': 'younus', 'age': 28, 'city': 'karachi'}\n"
     ]
    }
   ],
   "source": [
    "cities = {\n",
    "    'Lahore': {\n",
    "        'country': 'Pakistan',\n",
    "        'population': 7800000,\n",
    "        'fact': 'Minar-e-Pakistan',\n",
    "        },\n",
    "    'Karachi': {\n",
    "        'country': 'Pakistan',\n",
    "        'population': 12300000,\n",
    "        'fact': 'Tomb of Quaid-e-Azam',\n",
    "        },\n",
    "    'kathmandu': {\n",
    "        'country': 'nepal',\n",
    "        'population': 1003285,\n",
    "        'nearby mountains': 'himilaya',\n",
    "        }\n",
    "    }"
   ]
  },
  {
   "cell_type": "code",
   "execution_count": null,
   "metadata": {},
   "outputs": [],
   "source": []
  },
  {
   "cell_type": "code",
   "execution_count": null,
   "metadata": {},
   "outputs": [],
   "source": []
  }
 ],
 "metadata": {
  "kernelspec": {
   "display_name": "Python 3",
   "language": "python",
   "name": "python3"
  },
  "language_info": {
   "codemirror_mode": {
    "name": "ipython",
    "version": 3
   },
   "file_extension": ".py",
   "mimetype": "text/x-python",
   "name": "python",
   "nbconvert_exporter": "python",
   "pygments_lexer": "ipython3",
   "version": "3.7.4"
  }
 },
 "nbformat": 4,
 "nbformat_minor": 2
}
