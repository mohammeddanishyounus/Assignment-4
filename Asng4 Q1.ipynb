{
 "cells": [
  {
   "cell_type": "code",
   "execution_count": 1,
   "metadata": {},
   "outputs": [
    {
     "name": "stdout",
     "output_type": "stream",
     "text": [
      "Before Amendment\n",
      "{'first_name': 'danish', 'last_name': 'younus', 'age': 28, 'city': 'karachi', 'qualification': 'MCS'}\n",
      "After Add Qualification\n",
      "{'first_name': 'danish', 'last_name': 'younus', 'age': 28, 'city': 'karachi', 'qualification': 'MCS'}\n",
      "After Del Qualification\n",
      "{'first_name': 'danish', 'last_name': 'younus', 'age': 28, 'city': 'karachi'}\n"
     ]
    }
   ],
   "source": [
    "people = []\n",
    "person = {\n",
    "    'first_name': 'danish',\n",
    "    'last_name': 'younus',\n",
    "    'age': 28,\n",
    "    'city': 'karachi',\n",
    "    }\n",
    "\n",
    "person.update({'qualification': 'MCS'})\n",
    "print(\"Before Amendment\") \n",
    "print (person)\n",
    "    \n",
    "print(\"After Add Qualification\") \n",
    "print (person)\n",
    "    \n",
    "del person[\"qualification\"]\n",
    "print(\"After Del Qualification\") \n",
    "print (person)"
   ]
  },
  {
   "cell_type": "code",
   "execution_count": null,
   "metadata": {},
   "outputs": [],
   "source": []
  },
  {
   "cell_type": "code",
   "execution_count": null,
   "metadata": {},
   "outputs": [],
   "source": []
  }
 ],
 "metadata": {
  "kernelspec": {
   "display_name": "Python 3",
   "language": "python",
   "name": "python3"
  },
  "language_info": {
   "codemirror_mode": {
    "name": "ipython",
    "version": 3
   },
   "file_extension": ".py",
   "mimetype": "text/x-python",
   "name": "python",
   "nbconvert_exporter": "python",
   "pygments_lexer": "ipython3",
   "version": "3.7.4"
  }
 },
 "nbformat": 4,
 "nbformat_minor": 2
}
