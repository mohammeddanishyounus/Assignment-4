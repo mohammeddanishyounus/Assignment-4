{
 "cells": [
  {
   "cell_type": "code",
   "execution_count": 29,
   "metadata": {},
   "outputs": [
    {
     "ename": "IndentationError",
     "evalue": "unexpected indent (<ipython-input-29-c57947892479>, line 23)",
     "output_type": "error",
     "traceback": [
      "\u001b[1;36m  File \u001b[1;32m\"<ipython-input-29-c57947892479>\"\u001b[1;36m, line \u001b[1;32m23\u001b[0m\n\u001b[1;33m    print('Good job, ' + myName + '! You guessed my number in ' + guessesTaken + ' guesses!')\u001b[0m\n\u001b[1;37m    ^\u001b[0m\n\u001b[1;31mIndentationError\u001b[0m\u001b[1;31m:\u001b[0m unexpected indent\n"
     ]
    }
   ],
   "source": [
    "import random\n",
    "\n",
    "guessesTaken = 0\n",
    "print('Hello! What is your name?')\n",
    "myName = input()\n",
    "number = random.randint(1, 30)\n",
    "print('Well, ' + myName + ', I am thinking of a number between 1 and 30.')\n",
    "while guessesTaken < 6:\n",
    "    print('Take a guess.')\n",
    "guess = input()\n",
    "guess = int(guess)\n",
    "guessesTaken = guessesTaken + 1\n",
    "\n",
    "if guess < number:\n",
    "    print('Your guess is too low.')\n",
    "elif guess > number:\n",
    "    print('Your guess is too high.')\n",
    "elif guess == number:\n",
    "    break\n",
    "\n",
    "if guess == number:\n",
    "    guessesTaken = str(guessesTaken)\n",
    "        print('Good job, ' + myName + '! You guessed my number in ' + guessesTaken + ' guesses!')\n",
    "elif guess != number:\n",
    "    number = str(number)\n",
    "        print('Nope. The number I was thinking of was ' + number)"
   ]
  },
  {
   "cell_type": "code",
   "execution_count": null,
   "metadata": {},
   "outputs": [],
   "source": []
  },
  {
   "cell_type": "code",
   "execution_count": null,
   "metadata": {},
   "outputs": [],
   "source": []
  }
 ],
 "metadata": {
  "kernelspec": {
   "display_name": "Python 3",
   "language": "python",
   "name": "python3"
  },
  "language_info": {
   "codemirror_mode": {
    "name": "ipython",
    "version": 3
   },
   "file_extension": ".py",
   "mimetype": "text/x-python",
   "name": "python",
   "nbconvert_exporter": "python",
   "pygments_lexer": "ipython3",
   "version": "3.7.4"
  }
 },
 "nbformat": 4,
 "nbformat_minor": 2
}
